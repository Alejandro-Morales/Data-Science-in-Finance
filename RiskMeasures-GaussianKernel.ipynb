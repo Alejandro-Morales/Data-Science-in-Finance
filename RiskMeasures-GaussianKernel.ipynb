{
 "cells": [
  {
   "cell_type": "code",
   "execution_count": 39,
   "metadata": {},
   "outputs": [],
   "source": [
    "#import modules\n",
    "import numpy as np\n",
    "import csv\n",
    "from scipy import special\n",
    "import matplotlib.pyplot as plt\n",
    "import scipy.optimize"
   ]
  },
  {
   "cell_type": "code",
   "execution_count": 40,
   "metadata": {},
   "outputs": [],
   "source": [
    "#helper function to read file\n",
    "def readFile(fileName):\n",
    "    with open(fileName) as f:\n",
    "        reader = csv.reader(f, delimiter=\"\\t\")\n",
    "        d = list(reader)\n",
    "    return d\n"
   ]
  },
  {
   "cell_type": "code",
   "execution_count": 41,
   "metadata": {},
   "outputs": [],
   "source": [
    "# This function evaluates a normalized sum of N Gaussian functions with\n",
    "# means specified by the input vector mu and standard deviation equal to s\n",
    "# The function is computed in each point of the input vector x.\n",
    "#Nota que el vector x que le metes abarca el rango de todas las gaussian y se van sumando los valores\n",
    "def sumGaussian(x, mu, s):\n",
    "    N = len(mu)\n",
    "    G = 0\n",
    "    for i in range(N):\n",
    "        G = G + np.exp((-(x-mu[i])**2)/((2*(s**2))))/(np.sqrt(2*np.pi*(s**2)))\n",
    "    G = G/N #Normalization\n",
    "    \n",
    "    return G\n",
    "        "
   ]
  },
  {
   "cell_type": "code",
   "execution_count": 59,
   "metadata": {},
   "outputs": [
    {
     "name": "stdout",
     "output_type": "stream",
     "text": [
      "optimal kernel standard deviation for  bitcoin  =  [0.0070548]\n"
     ]
    },
    {
     "name": "stderr",
     "output_type": "stream",
     "text": [
      "<ipython-input-59-94f29c149ee9>:64: RuntimeWarning: divide by zero encountered in log\n",
      "  aux = np.sum(np.log(p)) #Computing likelihood\n"
     ]
    },
    {
     "name": "stdout",
     "output_type": "stream",
     "text": [
      "optimal kernel standard deviation for  Dash  =  [0.02595024]\n",
      "optimal kernel standard deviation for  Ethereum  =  [0.01555676]\n"
     ]
    },
    {
     "name": "stderr",
     "output_type": "stream",
     "text": [
      "/opt/anaconda3/lib/python3.8/site-packages/scipy/optimize/minpack.py:175: RuntimeWarning: The iteration is not making good progress, as measured by the \n",
      "  improvement from the last ten iterations.\n",
      "  warnings.warn(msg, RuntimeWarning)\n"
     ]
    },
    {
     "name": "stdout",
     "output_type": "stream",
     "text": [
      "optimal kernel standard deviation for  Litecoin  =  [0.02983647]\n",
      "optimal kernel standard deviation for  Monero  =  [0.04977024]\n",
      "optimal kernel standard deviation for  Nem  =  [0.0225702]\n",
      "optimal kernel standard deviation for  Ripple  =  [0.06892612]\n"
     ]
    }
   ],
   "source": [
    "# Al final hacer for loop para todas las crpto!!\"!!!!!!!!!\"\n",
    "\n",
    "file = readFile(\"cryptocurrency_prices.txt\")\n",
    "data = file\n",
    "\n",
    "# Row 1: Bitcoin      (p = 6.14e-13)\n",
    "# Row 2: Dash         (p = 2.17e-02)\n",
    "# Row 3: Ethereum     (p = 6.31e-04)\n",
    "# Row 4: Litecoin     (p = 6.32e-07)\n",
    "# Row 5: Monero       (p = 6.41e-03)\n",
    "# Row 6: Nem          (p = 3.63e-01)\n",
    "# Row 7: Ripple       (p = 1.04e-03)\n",
    "\n",
    "crypto = [\"bitcoin\",\"Dash\",\"Ethereum\",\"Litecoin\",\"Monero\",\"Nem\",\"Ripple\"]\n",
    "\n",
    "# var values becuase we have 7 cryptocurrencies\n",
    "var_hist = np.zeros(7)\n",
    "var_kernel=np.zeros(7)\n",
    "var_test=np.zeros(7)\n",
    "es_hist=np.zeros(7)\n",
    "es_kernel=np.zeros(7)\n",
    "es_test=np.zeros(7)\n",
    "\n",
    "for j in range(7):\n",
    "\n",
    "    b = data[j]\n",
    "\n",
    "    # Log-returns\n",
    "    r = np.zeros((len(b)-1,1))\n",
    "    for i in range(len(b)-1):\n",
    "        den = float(b[i])\n",
    "        num = float(b[i+1])\n",
    "        r[i] = np.log(num/den)\n",
    "\n",
    "    #Separating the data into training / validation / testing sets (one third of the data each)\n",
    "    pt = 0.33 #Fraction of data to use in training set\n",
    "    pv = 0.33 #Fraction of data to use in validation set\n",
    "\n",
    "    # Indexes at 33% and 66% of the data\n",
    "    index33= int(np.round(pt*len(r)))\n",
    "    index66 = int(np.round((pt+pv)*len(r)))\n",
    "\n",
    "    train_set = r[:index33] # [Training set ] first 33% of the data of r\n",
    "    N_T = len(train_set)\n",
    "\n",
    "    val_set = r[index33:index66] # [Validation set ] second 33% of the data of r\n",
    "\n",
    "    test_set = r[index66:] # [Test set ] third 33% of the data of r\n",
    "\n",
    "    # <<<<<<<<<<<<<<<<<<<<<<<<<<.   << Maximum likelihood analysis >>.    >>>>>>>>>>>>>>>>>>>>>>>>>>>>>>>>>>\n",
    "\n",
    "    # Vector of different standard deviations from 1^(-3) to 1^(-1) in log scales with 100 values\n",
    "    h = np.logspace(-3,-1,100) \n",
    "    L = np.zeros((len(h),1))\n",
    "\n",
    "    #Literal itera con todos los diferentes values de S.D para saber Mac Likelihood\n",
    "    #En otras ocaciones usabamos funciones de maximizacion y no era tan facil porque habia que maximizar\n",
    "    # multiples variables\n",
    "    for i in range(len(h)):\n",
    "        #Computing log-likelihood for Gaussian kernel evaluated on the\n",
    "        #validation set (using the training set as fixed parameters)\n",
    "\n",
    "        p = sumGaussian(val_set,train_set,h[i]) #Vector of Gaussian kernel values calculated in each point of validation set\n",
    "        aux = np.sum(np.log(p)) #Computing likelihood\n",
    "\n",
    "        L[i] = aux\n",
    "    h_opt = h[np.where(L == max(L))[0]] #agarra el valor de h en el indice donde esta el max L\n",
    "    print(\"optimal kernel standard deviation for \",crypto[j],\" = \", h_opt)\n",
    "\n",
    "    # <<<<<<<<<<<<<<<<<<<<<<<<<<.   << Kernel Random Numbers >>.    >>>>>>>>>>>>>>>>>>>>>>>>>>>>>>>>>>\n",
    "\n",
    "    f = lambda x, u: sum(1+scipy.special.erf((x-train_set)/np.sqrt(2*h_opt**2)))/(2*N_T) - u\n",
    "    n_rand = 5000\n",
    "    kernel_random_numbers = np.zeros(n_rand)\n",
    "\n",
    "    for i in range(n_rand):\n",
    "        u = np.random.uniform()\n",
    "        y = scipy.optimize.fsolve(f,0,args = (u))\n",
    "        kernel_random_numbers[i] = y\n",
    "\n",
    "    # In Kernel_Gaussian notebook this variable is train_val (combination of train set and validation set)\n",
    "    historical = np.concatenate((train_set,val_set), axis=0);\n",
    "\n",
    "    alpha = 0.95\n",
    "    \n",
    "    # VaR [Value at Risk]\n",
    "    var_hist[j] = np.absolute(np.quantile(historical,1-alpha))\n",
    "    var_kernel[j] = np.absolute(np.quantile(kernel_random_numbers,1-alpha))\n",
    "    # ES [Expected Shortfall]\n",
    "    es_hist[j] =np.absolute(np.mean([[v]  for v in historical if v < -var_hist[j]])) # Used list comprehension\n",
    "    es_kernel[j] =np.absolute(np.mean([[m]  for m in kernel_random_numbers if m < -var_kernel[j]]))\n",
    "\n",
    "    #VaR and ES for Test set\n",
    "    var_test[j] = np.absolute(np.quantile(test_set,1-alpha))\n",
    "    es_test[j] =np.absolute(np.mean([[k]  for k in historical if k < -var_test[j]]))"
   ]
  },
  {
   "cell_type": "code",
   "execution_count": 67,
   "metadata": {},
   "outputs": [
    {
     "data": {
      "text/plain": [
       "<matplotlib.legend.Legend at 0x7f851d38cf40>"
      ]
     },
     "execution_count": 67,
     "metadata": {},
     "output_type": "execute_result"
    },
    {
     "data": {
      "image/png": "[encoded data removed]",
      "text/plain": [
       "<Figure size 400x400 with 1 Axes>"
      ]
     },
     "metadata": {
      "needs_background": "light"
     },
     "output_type": "display_data"
    },
    {
     "data": {
      "image/png": "[encoded data removed]",
      "text/plain": [
       "<Figure size 400x400 with 1 Axes>"
      ]
     },
     "metadata": {
      "needs_background": "light"
     },
     "output_type": "display_data"
    }
   ],
   "source": [
    "\n",
    "\n",
    "\n",
    "plot1 = plt.figure(1,figsize=(4,4), dpi=100)\n",
    "for i in range(6):\n",
    "    plt.plot(i+1,var_hist[i],\"g.\")\n",
    "    plt.plot(i+1,var_kernel[i],\"bx\")\n",
    "    plt.plot(i+1,var_test[i], \"rx\")\n",
    "    plt.ylabel(\"VaR\")\n",
    "    plt.tight_layout()\n",
    "plt.plot(7,var_hist[i],\"g.\",label = \"historical\")\n",
    "plt.plot(7,var_kernel[i],\"bx\",label = \"kernel\")\n",
    "plt.plot(7,var_test[i], \"rx\",label = \"realized\")\n",
    "plt.legend()\n",
    "\n",
    "\n",
    "plot2 = plt.figure(2,figsize=(4,4), dpi=100)\n",
    "for i in range(6):\n",
    "    plt.plot(i+1,es_hist[i],\"g.\")\n",
    "    plt.plot(i+1,es_kernel[i],\"bx\")\n",
    "    plt.plot(i+1,es_test[i],\"rx\")\n",
    "    plt.ylabel(\"Expected Shortfall\")\n",
    "    plt.tight_layout()\n",
    "\n",
    "plt.plot(7,es_hist[i],\"g.\",label = \"historical\")\n",
    "plt.plot(7,es_kernel[i],\"bx\",label = \"kernel\")\n",
    "plt.plot(7,es_test[i],\"rx\",label = \"realized\")\n",
    "plt.legend()\n",
    "\n",
    "# 1: Bitcoin\n",
    "# 2: Dash \n",
    "# 3: Ethereum \n",
    "# 4: Litecoin  \n",
    "# 5: Monero  \n",
    "# 6: Nem    \n",
    "# 7: Ripple "
   ]
  },
  {
   "cell_type": "code",
   "execution_count": null,
   "metadata": {},
   "outputs": [],
   "source": []
  }
 ],
 "metadata": {
  "kernelspec": {
   "display_name": "Python 3",
   "language": "python",
   "name": "python3"
  },
  "language_info": {
   "codemirror_mode": {
    "name": "ipython",
    "version": 3
   },
   "file_extension": ".py",
   "mimetype": "text/x-python",
   "name": "python",
   "nbconvert_exporter": "python",
   "pygments_lexer": "ipython3",
   "version": "3.8.3"
  },
  "latex_envs": {
   "LaTeX_envs_menu_present": true,
   "autoclose": false,
   "autocomplete": true,
   "bibliofile": "biblio.bib",
   "cite_by": "apalike",
   "current_citInitial": 1,
   "eqLabelWithNumbers": true,
   "eqNumInitial": 1,
   "hotkeys": {
    "equation": "Ctrl-E",
    "itemize": "Ctrl-I"
   },
   "labels_anchors": false,
   "latex_user_defs": false,
   "report_style_numbering": false,
   "user_envs_cfg": false
  },
  "nbTranslate": {
   "displayLangs": [
    "*"
   ],
   "hotkey": "alt-t",
   "langInMainMenu": true,
   "sourceLang": "en",
   "targetLang": "fr",
   "useGoogleTranslate": true
  },
  "toc": {
   "base_numbering": 1,
   "nav_menu": {},
   "number_sections": true,
   "sideBar": true,
   "skip_h1_title": false,
   "title_cell": "Table of Contents",
   "title_sidebar": "Contents",
   "toc_cell": false,
   "toc_position": {},
   "toc_section_display": true,
   "toc_window_display": false
  }
 },
 "nbformat": 4,
 "nbformat_minor": 4
}
